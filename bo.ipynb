{
  "nbformat": 4,
  "nbformat_minor": 0,
  "metadata": {
    "colab": {
      "name": "bo.ipynb",
      "provenance": [],
      "mount_file_id": "1ZlPOIEgEpQPCU4YoYs0WvWsbhSIN9lFy",
      "authorship_tag": "ABX9TyNMFUtqrC0i3v3YHhaaExVb",
      "include_colab_link": true
    },
    "kernelspec": {
      "name": "python3",
      "display_name": "Python 3"
    },
    "language_info": {
      "name": "python"
    }
  },
  "cells": [
    {
      "cell_type": "markdown",
      "metadata": {
        "id": "view-in-github",
        "colab_type": "text"
      },
      "source": [
        "<a href=\"https://colab.research.google.com/github/jaaaamj0711/DACON/blob/main/bo.ipynb\" target=\"_parent\"><img src=\"https://colab.research.google.com/assets/colab-badge.svg\" alt=\"Open In Colab\"/></a>"
      ]
    },
    {
      "cell_type": "code",
      "metadata": {
        "id": "ZurxIt7TOjYs"
      },
      "source": [
        "import pandas as pd\n",
        "import numpy as np\n",
        "import re\n",
        "import matplotlib.pyplot as plt\n",
        "import seaborn as sns\n",
        "\n",
        "plt.style.use(['classic'])"
      ],
      "execution_count": 76,
      "outputs": []
    },
    {
      "cell_type": "code",
      "metadata": {
        "colab": {
          "base_uri": "https://localhost:8080/",
          "height": 326
        },
        "id": "alxGv_T8O-c0",
        "outputId": "469843d7-8d66-43d1-c740-bb63df3f3092"
      },
      "source": [
        "apart = pd.read_csv(\"/content/drive/MyDrive/open (2)/아파트 실거래가격지수.csv\", index_col=0)\n",
        "apart.head()"
      ],
      "execution_count": 21,
      "outputs": [
        {
          "output_type": "execute_result",
          "data": {
            "text/html": [
              "<div>\n",
              "<style scoped>\n",
              "    .dataframe tbody tr th:only-of-type {\n",
              "        vertical-align: middle;\n",
              "    }\n",
              "\n",
              "    .dataframe tbody tr th {\n",
              "        vertical-align: top;\n",
              "    }\n",
              "\n",
              "    .dataframe thead th {\n",
              "        text-align: right;\n",
              "    }\n",
              "</style>\n",
              "<table border=\"1\" class=\"dataframe\">\n",
              "  <thead>\n",
              "    <tr style=\"text-align: right;\">\n",
              "      <th></th>\n",
              "      <th>도심권[2017.11=100]</th>\n",
              "      <th>동북권[2017.11=100]</th>\n",
              "      <th>동남권[2017.11=100]</th>\n",
              "      <th>부산[2017.11=100]</th>\n",
              "      <th>대구[2017.11=100]</th>\n",
              "      <th>인천[2017.11=100]</th>\n",
              "      <th>광주[2017.11=100]</th>\n",
              "      <th>대전[2017.11=100]</th>\n",
              "      <th>울산[2017.11=100]</th>\n",
              "      <th>세종[2017.11=100]</th>\n",
              "      <th>경기[2017.11=100]</th>\n",
              "      <th>강원[2017.11=100]</th>\n",
              "      <th>충북[2017.11=100]</th>\n",
              "      <th>충남[2017.11=100]</th>\n",
              "      <th>서북권[2017.11=100]</th>\n",
              "      <th>서남권[2017.11=100]</th>\n",
              "      <th>전북[2017.11=100]</th>\n",
              "      <th>전남[2017.11=100]</th>\n",
              "      <th>경북[2017.11=100]</th>\n",
              "      <th>경남[2017.11=100]</th>\n",
              "      <th>제주[2017.11=100]</th>\n",
              "      <th>광역시[2017.11=100]</th>\n",
              "      <th>지방광역시[2017.11=100]</th>\n",
              "      <th>지방도[2017.11=100]</th>\n",
              "      <th>전국[2017.11=100]</th>\n",
              "      <th>서울[2017.11=100]</th>\n",
              "      <th>수도권[2017.11=100]</th>\n",
              "      <th>지방[2017.11=100]</th>\n",
              "    </tr>\n",
              "  </thead>\n",
              "  <tbody>\n",
              "    <tr>\n",
              "      <th>2006-01-01</th>\n",
              "      <td>59.3</td>\n",
              "      <td>59.0</td>\n",
              "      <td>62.0</td>\n",
              "      <td>49.7</td>\n",
              "      <td>62.5</td>\n",
              "      <td>62.4</td>\n",
              "      <td>54.2</td>\n",
              "      <td>76.1</td>\n",
              "      <td>48.8</td>\n",
              "      <td>69.8</td>\n",
              "      <td>69.2</td>\n",
              "      <td>61.2</td>\n",
              "      <td>65.2</td>\n",
              "      <td>75.4</td>\n",
              "      <td>57.1</td>\n",
              "      <td>59.9</td>\n",
              "      <td>57.0</td>\n",
              "      <td>51.0</td>\n",
              "      <td>66.3</td>\n",
              "      <td>63.0</td>\n",
              "      <td>38.7</td>\n",
              "      <td>NaN</td>\n",
              "      <td>55.8</td>\n",
              "      <td>62.3</td>\n",
              "      <td>62.0</td>\n",
              "      <td>60.6</td>\n",
              "      <td>65.4</td>\n",
              "      <td>59.1</td>\n",
              "    </tr>\n",
              "    <tr>\n",
              "      <th>2006-02-01</th>\n",
              "      <td>58.1</td>\n",
              "      <td>59.3</td>\n",
              "      <td>63.8</td>\n",
              "      <td>49.4</td>\n",
              "      <td>62.6</td>\n",
              "      <td>62.8</td>\n",
              "      <td>53.9</td>\n",
              "      <td>75.6</td>\n",
              "      <td>48.9</td>\n",
              "      <td>69.7</td>\n",
              "      <td>70.5</td>\n",
              "      <td>61.8</td>\n",
              "      <td>66.4</td>\n",
              "      <td>76.2</td>\n",
              "      <td>57.2</td>\n",
              "      <td>61.1</td>\n",
              "      <td>57.3</td>\n",
              "      <td>50.7</td>\n",
              "      <td>66.2</td>\n",
              "      <td>62.9</td>\n",
              "      <td>37.6</td>\n",
              "      <td>NaN</td>\n",
              "      <td>55.7</td>\n",
              "      <td>62.6</td>\n",
              "      <td>62.7</td>\n",
              "      <td>61.7</td>\n",
              "      <td>66.6</td>\n",
              "      <td>59.2</td>\n",
              "    </tr>\n",
              "    <tr>\n",
              "      <th>2006-03-01</th>\n",
              "      <td>59.5</td>\n",
              "      <td>59.5</td>\n",
              "      <td>66.4</td>\n",
              "      <td>49.1</td>\n",
              "      <td>62.4</td>\n",
              "      <td>63.2</td>\n",
              "      <td>53.8</td>\n",
              "      <td>74.9</td>\n",
              "      <td>49.8</td>\n",
              "      <td>72.9</td>\n",
              "      <td>71.4</td>\n",
              "      <td>59.9</td>\n",
              "      <td>66.9</td>\n",
              "      <td>77.0</td>\n",
              "      <td>57.9</td>\n",
              "      <td>62.9</td>\n",
              "      <td>58.0</td>\n",
              "      <td>51.1</td>\n",
              "      <td>66.3</td>\n",
              "      <td>63.2</td>\n",
              "      <td>35.8</td>\n",
              "      <td>NaN</td>\n",
              "      <td>55.6</td>\n",
              "      <td>62.7</td>\n",
              "      <td>63.3</td>\n",
              "      <td>63.2</td>\n",
              "      <td>67.7</td>\n",
              "      <td>59.2</td>\n",
              "    </tr>\n",
              "    <tr>\n",
              "      <th>2006-04-01</th>\n",
              "      <td>59.5</td>\n",
              "      <td>59.7</td>\n",
              "      <td>67.9</td>\n",
              "      <td>48.6</td>\n",
              "      <td>62.3</td>\n",
              "      <td>63.7</td>\n",
              "      <td>53.7</td>\n",
              "      <td>74.2</td>\n",
              "      <td>50.3</td>\n",
              "      <td>69.7</td>\n",
              "      <td>72.2</td>\n",
              "      <td>60.8</td>\n",
              "      <td>67.7</td>\n",
              "      <td>77.0</td>\n",
              "      <td>58.1</td>\n",
              "      <td>64.6</td>\n",
              "      <td>58.3</td>\n",
              "      <td>51.4</td>\n",
              "      <td>66.1</td>\n",
              "      <td>62.8</td>\n",
              "      <td>36.1</td>\n",
              "      <td>NaN</td>\n",
              "      <td>55.4</td>\n",
              "      <td>62.9</td>\n",
              "      <td>63.8</td>\n",
              "      <td>64.1</td>\n",
              "      <td>68.4</td>\n",
              "      <td>59.2</td>\n",
              "    </tr>\n",
              "    <tr>\n",
              "      <th>2006-05-01</th>\n",
              "      <td>61.4</td>\n",
              "      <td>59.6</td>\n",
              "      <td>67.1</td>\n",
              "      <td>48.2</td>\n",
              "      <td>62.0</td>\n",
              "      <td>64.1</td>\n",
              "      <td>53.0</td>\n",
              "      <td>73.8</td>\n",
              "      <td>51.6</td>\n",
              "      <td>72.3</td>\n",
              "      <td>73.3</td>\n",
              "      <td>61.8</td>\n",
              "      <td>67.3</td>\n",
              "      <td>75.0</td>\n",
              "      <td>58.7</td>\n",
              "      <td>65.3</td>\n",
              "      <td>58.4</td>\n",
              "      <td>52.7</td>\n",
              "      <td>66.1</td>\n",
              "      <td>62.7</td>\n",
              "      <td>36.5</td>\n",
              "      <td>NaN</td>\n",
              "      <td>55.3</td>\n",
              "      <td>62.9</td>\n",
              "      <td>64.1</td>\n",
              "      <td>64.1</td>\n",
              "      <td>69.0</td>\n",
              "      <td>59.1</td>\n",
              "    </tr>\n",
              "  </tbody>\n",
              "</table>\n",
              "</div>"
            ],
            "text/plain": [
              "            도심권[2017.11=100]  ...  지방[2017.11=100]\n",
              "2006-01-01              59.3  ...             59.1\n",
              "2006-02-01              58.1  ...             59.2\n",
              "2006-03-01              59.5  ...             59.2\n",
              "2006-04-01              59.5  ...             59.2\n",
              "2006-05-01              61.4  ...             59.1\n",
              "\n",
              "[5 rows x 28 columns]"
            ]
          },
          "metadata": {
            "tags": []
          },
          "execution_count": 21
        }
      ]
    },
    {
      "cell_type": "code",
      "metadata": {
        "colab": {
          "base_uri": "https://localhost:8080/"
        },
        "id": "97pQDA6cQapG",
        "outputId": "518e6069-5058-439b-db8c-999d5cb67d3f"
      },
      "source": [
        "col = apart.columns\n",
        "col"
      ],
      "execution_count": 39,
      "outputs": [
        {
          "output_type": "execute_result",
          "data": {
            "text/plain": [
              "Index(['도심권[2017.11=100]', '동북권[2017.11=100]', '동남권[2017.11=100]',\n",
              "       '부산[2017.11=100]', '대구[2017.11=100]', '인천[2017.11=100]',\n",
              "       '광주[2017.11=100]', '대전[2017.11=100]', '울산[2017.11=100]',\n",
              "       '세종[2017.11=100]', '경기[2017.11=100]', '강원[2017.11=100]',\n",
              "       '충북[2017.11=100]', '충남[2017.11=100]', '서북권[2017.11=100]',\n",
              "       '서남권[2017.11=100]', '전북[2017.11=100]', '전남[2017.11=100]',\n",
              "       '경북[2017.11=100]', '경남[2017.11=100]', '제주[2017.11=100]',\n",
              "       '광역시[2017.11=100]', '지방광역시[2017.11=100]', '지방도[2017.11=100]',\n",
              "       '전국[2017.11=100]', '서울[2017.11=100]', '수도권[2017.11=100]',\n",
              "       '지방[2017.11=100]'],\n",
              "      dtype='object')"
            ]
          },
          "metadata": {
            "tags": []
          },
          "execution_count": 39
        }
      ]
    },
    {
      "cell_type": "code",
      "metadata": {
        "id": "y6ycYJH7UnAk"
      },
      "source": [
        "name = []\n",
        "for i in col:\n",
        "  a = i.split(\"[\")[0]\n",
        "  name.append(a)"
      ],
      "execution_count": 52,
      "outputs": []
    },
    {
      "cell_type": "code",
      "metadata": {
        "id": "OCs-E2zsZi8F"
      },
      "source": [
        "year = []\n",
        "for i in apart.index:\n",
        "  a = i.split(\"-\")[0]\n",
        "  year.append(a)"
      ],
      "execution_count": 66,
      "outputs": []
    },
    {
      "cell_type": "code",
      "metadata": {
        "id": "IkG-RevvZvmI"
      },
      "source": [
        "apart.index = year"
      ],
      "execution_count": 68,
      "outputs": []
    },
    {
      "cell_type": "code",
      "metadata": {
        "colab": {
          "base_uri": "https://localhost:8080/"
        },
        "id": "krJBv_QpVXkp",
        "outputId": "212b8b7d-894c-4e29-974e-31d9e63f3518"
      },
      "source": [
        "name"
      ],
      "execution_count": 53,
      "outputs": [
        {
          "output_type": "execute_result",
          "data": {
            "text/plain": [
              "['도심권',\n",
              " '동북권',\n",
              " '동남권',\n",
              " '부산',\n",
              " '대구',\n",
              " '인천',\n",
              " '광주',\n",
              " '대전',\n",
              " '울산',\n",
              " '세종',\n",
              " '경기',\n",
              " '강원',\n",
              " '충북',\n",
              " '충남',\n",
              " '서북권',\n",
              " '서남권',\n",
              " '전북',\n",
              " '전남',\n",
              " '경북',\n",
              " '경남',\n",
              " '제주',\n",
              " '광역시',\n",
              " '지방광역시',\n",
              " '지방도',\n",
              " '전국',\n",
              " '서울',\n",
              " '수도권',\n",
              " '지방']"
            ]
          },
          "metadata": {
            "tags": []
          },
          "execution_count": 53
        }
      ]
    },
    {
      "cell_type": "code",
      "metadata": {
        "colab": {
          "base_uri": "https://localhost:8080/",
          "height": 343
        },
        "id": "JlCgRGQfVoQy",
        "outputId": "2432b878-0bc3-4379-db16-f7781a518cbc"
      },
      "source": [
        "apart.columns = name\n",
        "apart.head()"
      ],
      "execution_count": 55,
      "outputs": [
        {
          "output_type": "execute_result",
          "data": {
            "text/html": [
              "<div>\n",
              "<style scoped>\n",
              "    .dataframe tbody tr th:only-of-type {\n",
              "        vertical-align: middle;\n",
              "    }\n",
              "\n",
              "    .dataframe tbody tr th {\n",
              "        vertical-align: top;\n",
              "    }\n",
              "\n",
              "    .dataframe thead th {\n",
              "        text-align: right;\n",
              "    }\n",
              "</style>\n",
              "<table border=\"1\" class=\"dataframe\">\n",
              "  <thead>\n",
              "    <tr style=\"text-align: right;\">\n",
              "      <th></th>\n",
              "      <th>도심권</th>\n",
              "      <th>동북권</th>\n",
              "      <th>동남권</th>\n",
              "      <th>부산</th>\n",
              "      <th>대구</th>\n",
              "      <th>인천</th>\n",
              "      <th>광주</th>\n",
              "      <th>대전</th>\n",
              "      <th>울산</th>\n",
              "      <th>세종</th>\n",
              "      <th>경기</th>\n",
              "      <th>강원</th>\n",
              "      <th>충북</th>\n",
              "      <th>충남</th>\n",
              "      <th>서북권</th>\n",
              "      <th>서남권</th>\n",
              "      <th>전북</th>\n",
              "      <th>전남</th>\n",
              "      <th>경북</th>\n",
              "      <th>경남</th>\n",
              "      <th>제주</th>\n",
              "      <th>광역시</th>\n",
              "      <th>지방광역시</th>\n",
              "      <th>지방도</th>\n",
              "      <th>전국</th>\n",
              "      <th>서울</th>\n",
              "      <th>수도권</th>\n",
              "      <th>지방</th>\n",
              "    </tr>\n",
              "  </thead>\n",
              "  <tbody>\n",
              "    <tr>\n",
              "      <th>2006-01-01</th>\n",
              "      <td>59.3</td>\n",
              "      <td>59.0</td>\n",
              "      <td>62.0</td>\n",
              "      <td>49.7</td>\n",
              "      <td>62.5</td>\n",
              "      <td>62.4</td>\n",
              "      <td>54.2</td>\n",
              "      <td>76.1</td>\n",
              "      <td>48.8</td>\n",
              "      <td>69.8</td>\n",
              "      <td>69.2</td>\n",
              "      <td>61.2</td>\n",
              "      <td>65.2</td>\n",
              "      <td>75.4</td>\n",
              "      <td>57.1</td>\n",
              "      <td>59.9</td>\n",
              "      <td>57.0</td>\n",
              "      <td>51.0</td>\n",
              "      <td>66.3</td>\n",
              "      <td>63.0</td>\n",
              "      <td>38.7</td>\n",
              "      <td>NaN</td>\n",
              "      <td>55.8</td>\n",
              "      <td>62.3</td>\n",
              "      <td>62.0</td>\n",
              "      <td>60.6</td>\n",
              "      <td>65.4</td>\n",
              "      <td>59.1</td>\n",
              "    </tr>\n",
              "    <tr>\n",
              "      <th>2006-02-01</th>\n",
              "      <td>58.1</td>\n",
              "      <td>59.3</td>\n",
              "      <td>63.8</td>\n",
              "      <td>49.4</td>\n",
              "      <td>62.6</td>\n",
              "      <td>62.8</td>\n",
              "      <td>53.9</td>\n",
              "      <td>75.6</td>\n",
              "      <td>48.9</td>\n",
              "      <td>69.7</td>\n",
              "      <td>70.5</td>\n",
              "      <td>61.8</td>\n",
              "      <td>66.4</td>\n",
              "      <td>76.2</td>\n",
              "      <td>57.2</td>\n",
              "      <td>61.1</td>\n",
              "      <td>57.3</td>\n",
              "      <td>50.7</td>\n",
              "      <td>66.2</td>\n",
              "      <td>62.9</td>\n",
              "      <td>37.6</td>\n",
              "      <td>NaN</td>\n",
              "      <td>55.7</td>\n",
              "      <td>62.6</td>\n",
              "      <td>62.7</td>\n",
              "      <td>61.7</td>\n",
              "      <td>66.6</td>\n",
              "      <td>59.2</td>\n",
              "    </tr>\n",
              "    <tr>\n",
              "      <th>2006-03-01</th>\n",
              "      <td>59.5</td>\n",
              "      <td>59.5</td>\n",
              "      <td>66.4</td>\n",
              "      <td>49.1</td>\n",
              "      <td>62.4</td>\n",
              "      <td>63.2</td>\n",
              "      <td>53.8</td>\n",
              "      <td>74.9</td>\n",
              "      <td>49.8</td>\n",
              "      <td>72.9</td>\n",
              "      <td>71.4</td>\n",
              "      <td>59.9</td>\n",
              "      <td>66.9</td>\n",
              "      <td>77.0</td>\n",
              "      <td>57.9</td>\n",
              "      <td>62.9</td>\n",
              "      <td>58.0</td>\n",
              "      <td>51.1</td>\n",
              "      <td>66.3</td>\n",
              "      <td>63.2</td>\n",
              "      <td>35.8</td>\n",
              "      <td>NaN</td>\n",
              "      <td>55.6</td>\n",
              "      <td>62.7</td>\n",
              "      <td>63.3</td>\n",
              "      <td>63.2</td>\n",
              "      <td>67.7</td>\n",
              "      <td>59.2</td>\n",
              "    </tr>\n",
              "    <tr>\n",
              "      <th>2006-04-01</th>\n",
              "      <td>59.5</td>\n",
              "      <td>59.7</td>\n",
              "      <td>67.9</td>\n",
              "      <td>48.6</td>\n",
              "      <td>62.3</td>\n",
              "      <td>63.7</td>\n",
              "      <td>53.7</td>\n",
              "      <td>74.2</td>\n",
              "      <td>50.3</td>\n",
              "      <td>69.7</td>\n",
              "      <td>72.2</td>\n",
              "      <td>60.8</td>\n",
              "      <td>67.7</td>\n",
              "      <td>77.0</td>\n",
              "      <td>58.1</td>\n",
              "      <td>64.6</td>\n",
              "      <td>58.3</td>\n",
              "      <td>51.4</td>\n",
              "      <td>66.1</td>\n",
              "      <td>62.8</td>\n",
              "      <td>36.1</td>\n",
              "      <td>NaN</td>\n",
              "      <td>55.4</td>\n",
              "      <td>62.9</td>\n",
              "      <td>63.8</td>\n",
              "      <td>64.1</td>\n",
              "      <td>68.4</td>\n",
              "      <td>59.2</td>\n",
              "    </tr>\n",
              "    <tr>\n",
              "      <th>2006-05-01</th>\n",
              "      <td>61.4</td>\n",
              "      <td>59.6</td>\n",
              "      <td>67.1</td>\n",
              "      <td>48.2</td>\n",
              "      <td>62.0</td>\n",
              "      <td>64.1</td>\n",
              "      <td>53.0</td>\n",
              "      <td>73.8</td>\n",
              "      <td>51.6</td>\n",
              "      <td>72.3</td>\n",
              "      <td>73.3</td>\n",
              "      <td>61.8</td>\n",
              "      <td>67.3</td>\n",
              "      <td>75.0</td>\n",
              "      <td>58.7</td>\n",
              "      <td>65.3</td>\n",
              "      <td>58.4</td>\n",
              "      <td>52.7</td>\n",
              "      <td>66.1</td>\n",
              "      <td>62.7</td>\n",
              "      <td>36.5</td>\n",
              "      <td>NaN</td>\n",
              "      <td>55.3</td>\n",
              "      <td>62.9</td>\n",
              "      <td>64.1</td>\n",
              "      <td>64.1</td>\n",
              "      <td>69.0</td>\n",
              "      <td>59.1</td>\n",
              "    </tr>\n",
              "  </tbody>\n",
              "</table>\n",
              "</div>"
            ],
            "text/plain": [
              "             도심권   동북권   동남권    부산    대구  ...   지방도    전국    서울   수도권    지방\n",
              "2006-01-01  59.3  59.0  62.0  49.7  62.5  ...  62.3  62.0  60.6  65.4  59.1\n",
              "2006-02-01  58.1  59.3  63.8  49.4  62.6  ...  62.6  62.7  61.7  66.6  59.2\n",
              "2006-03-01  59.5  59.5  66.4  49.1  62.4  ...  62.7  63.3  63.2  67.7  59.2\n",
              "2006-04-01  59.5  59.7  67.9  48.6  62.3  ...  62.9  63.8  64.1  68.4  59.2\n",
              "2006-05-01  61.4  59.6  67.1  48.2  62.0  ...  62.9  64.1  64.1  69.0  59.1\n",
              "\n",
              "[5 rows x 28 columns]"
            ]
          },
          "metadata": {
            "tags": []
          },
          "execution_count": 55
        }
      ]
    },
    {
      "cell_type": "code",
      "metadata": {
        "id": "glhDam0YZfwE"
      },
      "source": [
        ""
      ],
      "execution_count": null,
      "outputs": []
    },
    {
      "cell_type": "code",
      "metadata": {
        "colab": {
          "base_uri": "https://localhost:8080/"
        },
        "id": "xGFGrM_fYP84",
        "outputId": "d1361c73-9731-4b65-e49d-f8ef2c52c2e3"
      },
      "source": [
        "apart[\"도심권\"]"
      ],
      "execution_count": 63,
      "outputs": [
        {
          "output_type": "execute_result",
          "data": {
            "text/plain": [
              "2006-01-01     59.3\n",
              "2006-02-01     58.1\n",
              "2006-03-01     59.5\n",
              "2006-04-01     59.5\n",
              "2006-05-01     61.4\n",
              "              ...  \n",
              "2020-09-01    146.7\n",
              "2020-10-01    147.1\n",
              "2020-11-01    149.4\n",
              "2020-12-01    152.5\n",
              "2021-01-01    155.1\n",
              "Name: 도심권, Length: 181, dtype: float64"
            ]
          },
          "metadata": {
            "tags": []
          },
          "execution_count": 63
        }
      ]
    },
    {
      "cell_type": "code",
      "metadata": {
        "id": "tDF4KX-Ta_bQ"
      },
      "source": [
        "import pandas as pd\n",
        "import numpy as np\n",
        "import re\n",
        "import matplotlib.pyplot as plt\n",
        "import seaborn as sns\n",
        "import warnings\n",
        "warnings.filterwarnings('ignore')\n",
        "\n",
        "plt.style.use(['ggplot'])"
      ],
      "execution_count": 96,
      "outputs": []
    },
    {
      "cell_type": "code",
      "metadata": {
        "colab": {
          "base_uri": "https://localhost:8080/",
          "height": 453
        },
        "id": "PxSNDf-SXYyP",
        "outputId": "a6a74e1b-2d5f-4031-ae7a-2e4304ccb375"
      },
      "source": [
        "plt.subplots(figsize = (15,6))\n",
        "sns.lineplot(x = apart.index, y = apart[\"제주\"])"
      ],
      "execution_count": 99,
      "outputs": [
        {
          "output_type": "execute_result",
          "data": {
            "text/plain": [
              "<matplotlib.axes._subplots.AxesSubplot at 0x7fae2ca19250>"
            ]
          },
          "metadata": {
            "tags": []
          },
          "execution_count": 99
        },
        {
          "output_type": "display_data",
          "data": {
            "image/png": "[encoded data removed]",
            "text/plain": [
              "<Figure size 1200x480 with 1 Axes>"
            ]
          },
          "metadata": {
            "tags": []
          }
        }
      ]
    }
  ]
}